{
 "cells": [
  {
   "attachments": {},
   "cell_type": "markdown",
   "metadata": {},
   "source": [
    "# Validate with MOT format"
   ]
  },
  {
   "cell_type": "code",
   "execution_count": 29,
   "metadata": {},
   "outputs": [
    {
     "name": "stdout",
     "output_type": "stream",
     "text": [
      "/home/mario/data/ftc-train/images/original/000002.jpg\n"
     ]
    },
    {
     "data": {
      "text/plain": [
       "113"
      ]
     },
     "execution_count": 29,
     "metadata": {},
     "output_type": "execute_result"
    }
   ],
   "source": [
    "import os\n",
    "import cv2\n",
    "\n",
    "frame_num=2\n",
    "\n",
    "labels_file = \"/home/mario/ftc/FTC-2024-data/Train/train_gt_mot.txt\"\n",
    "labels_dict={i:[] for i in range(1,10001)}\n",
    "with open(labels_file,'r') as f:\n",
    "    for line in f:\n",
    "        # print(line)\n",
    "        frame, bid, top, left, width, height, _, _, _, _ = line.split()\n",
    "        # lines.append([int(frame), int(bid), float(left), float(top), int(width), int(height)])\n",
    "        labels_dict[int(frame)].append([int(frame), int(bid), float(left), float(top), int(width), int(height)])\n",
    "        # print(labels_dict[int(frame)])\n",
    "\n",
    "\n",
    "images_original=\"/home/mario/data/ftc-train/images/original\"\n",
    "image_fn=os.path.join(images_original,str(frame_num).zfill(6)+\".jpg\")\n",
    "print(image_fn)\n",
    "frame=cv2.imread(image_fn)\n",
    "\n",
    "for rect in labels_dict[frame_num]:\n",
    "    _,_,x,y,w,h = rect\n",
    "    # print(x,\",\",y,\",\",w,\",\",h)\n",
    "    # p0 = int((x-w/2)), int((y-h/2))\n",
    "    # p1 = int((x+w/2)), int((y+h/2))\n",
    "    p0=int(x),int(y)\n",
    "    p1=int(x+w),int(y+h)\n",
    "    # print(\"p0:\",p0,\" p1:\",p1)\n",
    "    cv2.rectangle(frame, p0, p1, (255,0,255), 3)\n",
    "\n",
    "small = cv2.resize(frame, (0,0), fx=0.4, fy=0.4) \n",
    "\n",
    "# cv2.imshow('blob', frame)\n",
    "cv2.imshow('blob', small)\n",
    "cv2.waitKey(0)\n",
    "# cv2.destroyAllWindows()\n",
    "\n",
    "\n"
   ]
  },
  {
   "cell_type": "code",
   "execution_count": 30,
   "metadata": {},
   "outputs": [
    {
     "data": {
      "text/plain": [
       "(2058, 2456, 3)"
      ]
     },
     "execution_count": 30,
     "metadata": {},
     "output_type": "execute_result"
    }
   ],
   "source": [
    "frame.shape"
   ]
  },
  {
   "cell_type": "code",
   "execution_count": 31,
   "metadata": {},
   "outputs": [
    {
     "name": "stdout",
     "output_type": "stream",
     "text": [
      "/home/mario/data/ftc-train/images/original/000002.jpg\n"
     ]
    }
   ],
   "source": [
    "print(image_fn)"
   ]
  },
  {
   "cell_type": "code",
   "execution_count": null,
   "metadata": {},
   "outputs": [],
   "source": []
  },
  {
   "attachments": {},
   "cell_type": "markdown",
   "metadata": {},
   "source": [
    "# Validate with YOLO format"
   ]
  },
  {
   "cell_type": "code",
   "execution_count": 32,
   "metadata": {},
   "outputs": [
    {
     "name": "stdout",
     "output_type": "stream",
     "text": [
      "0 0.6742060260586319 0.7168124392614189 0.04071661237785016 0.04859086491739553\n",
      "\n",
      "0 0.6673208469055375 0.7848007774538386 0.04071661237785016 0.04859086491739553\n",
      "\n",
      "0 0.6602890879478828 0.7413945578231292 0.04071661237785016 0.04859086491739553\n",
      "\n",
      "0 0.6354967426710098 0.7639261418853256 0.04071661237785016 0.04859086491739553\n",
      "\n",
      "0 0.6173900651465798 0.7326967930029155 0.04071661237785016 0.04859086491739553\n",
      "\n",
      "0 0.5977198697068404 0.7023323615160351 0.04071661237785016 0.04859086491739553\n",
      "\n",
      "0 0.5920724755700326 0.7267784256559767 0.04071661237785016 0.04859086491739553\n",
      "\n",
      "0 0.5433591205211726 0.7622934888241011 0.04071661237785016 0.04859086491739553\n",
      "\n",
      "0 0.5622597719869707 0.7067735665694849 0.04071661237785016 0.04859086491739553\n",
      "\n",
      "0 0.5320317589576548 0.7014625850340136 0.04071661237785016 0.04859086491739553\n",
      "\n",
      "w: 2456  h: 2058\n"
     ]
    }
   ],
   "source": [
    "import os\n",
    "import cv2\n",
    "\n",
    "frame_num=2\n",
    "\n",
    "#label information\n",
    "labels_original=\"/home/mario/data/ftc-train/labels/original\"\n",
    "label_fn=os.path.join(labels_original,str(frame_num).zfill(6)+\".txt\")\n",
    "labels_array=[]\n",
    "with open(label_fn,'r') as f:\n",
    "    for line in f:\n",
    "        print(line)\n",
    "        c,x,y,w,h = line.split()\n",
    "        # lines.append([int(frame), int(bid), float(left), float(top), int(width), int(height)])\n",
    "        labels_array.append([int(c),float(x), float(y), float(w), float(h)])\n",
    "        # print(labels_dict[int(frame)])\n",
    "\n",
    "#images information\n",
    "images_original=\"/home/mario/data/ftc-train/images/original\"\n",
    "image_fn=os.path.join(images_original,str(frame_num).zfill(6)+\".jpg\")\n",
    "frame=cv2.imread(image_fn)\n",
    "height,width,channels=frame.shape\n",
    "print(\"w:\",width,\" h:\",height)\n",
    "for rect in labels_array:\n",
    "    c,x,y,w,h = rect\n",
    "    # print(x,\",\",y,\",\",w,\",\",h)\n",
    "    # p0 = int((x-w/2)), int((y-h/2))\n",
    "    # p1 = int((x+w/2)), int((y+h/2))\n",
    "    # print(\"w*ww:\",w*width,\" h*hh:\",h*height)\n",
    "    p0=int((x-w/2)*width),int((y-h/2)*height)\n",
    "    p1=int((x+w/2)*width),int((y+h/2)*height)\n",
    "    # print(\"p0:\",p0,\" p1:\",p1)\n",
    "    cv2.rectangle(frame, p0, p1, (255,0,255), 3)\n",
    "\n",
    "small = cv2.resize(frame, (0,0), fx=0.4, fy=0.4) \n",
    "\n",
    "# cv2.imshow('blob', frame)\n",
    "cv2.imshow('blob', small)\n",
    "cv2.waitKey(0)\n",
    "cv2.destroyAllWindows()"
   ]
  },
  {
   "cell_type": "code",
   "execution_count": null,
   "metadata": {},
   "outputs": [],
   "source": []
  },
  {
   "attachments": {},
   "cell_type": "markdown",
   "metadata": {},
   "source": [
    "import os\n",
    "\n",
    "images_original=\"/home/mario/data/ftc-train/images/original\"\n",
    "\n",
    "frame_num=2\n",
    "image_fn=os.path.join(images_original,str(frame_num).zfill(6)+\".jpg\")\n",
    "print(image_fn)\n",
    "frame=cv2.imread(image_fn)\n",
    "\n",
    "for rect in labels_dict[frame_num]:\n",
    "    _,_,x,y,w,h = rect\n",
    "    # print(x,\",\",y,\",\",w,\",\",h)\n",
    "    # p0 = int((x-w/2)), int((y-h/2))\n",
    "    # p1 = int((x+w/2)), int((y+h/2))\n",
    "    p0=int(x),int(y)\n",
    "    p1=int(x+w),int(y+h)\n",
    "    # print(\"p0:\",p0,\" p1:\",p1)\n",
    "    cv2.rectangle(frame, p0, p1, (255,0,255), 3)\n",
    "\n",
    "small = cv2.resize(frame, (0,0), fx=0.4, fy=0.4) \n",
    "\n",
    "# cv2.imshow('blob', frame)\n",
    "cv2.imshow('blob', small)\n",
    "cv2.waitKey(0)\n",
    "cv2.destroyAllWindows()\n",
    "\n",
    "\n"
   ]
  }
 ],
 "metadata": {
  "kernelspec": {
   "display_name": "ftc38",
   "language": "python",
   "name": "python3"
  },
  "language_info": {
   "codemirror_mode": {
    "name": "ipython",
    "version": 3
   },
   "file_extension": ".py",
   "mimetype": "text/x-python",
   "name": "python",
   "nbconvert_exporter": "python",
   "pygments_lexer": "ipython3",
   "version": "3.8.18"
  },
  "orig_nbformat": 4,
  "vscode": {
   "interpreter": {
    "hash": "f4fe87f46699e893a0acb7d4a87394b12f942f41fa1b24f2bcaf86378d3ff87d"
   }
  }
 },
 "nbformat": 4,
 "nbformat_minor": 2
}
