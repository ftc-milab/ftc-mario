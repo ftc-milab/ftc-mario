{
 "cells": [
  {
   "cell_type": "code",
   "execution_count": 1,
   "id": "d355788e-a648-4e78-b2f6-ddba3696e22e",
   "metadata": {},
   "outputs": [],
   "source": [
    "# YOLO model\n",
    "from ultralytics import YOLO\n",
    "model=YOLO('/work/marioeduardo-a/ftc/models/best-organizers.pt')\n",
    "# model=YOLO('/work/marioeduardo-a/best.pt')\n",
    "# model=YOLO('best-yulun.pt')"
   ]
  },
  {
   "cell_type": "code",
   "execution_count": 2,
   "id": "0664d608-1c93-412d-977e-c80978ea696b",
   "metadata": {},
   "outputs": [],
   "source": [
    "# Tracker config file\n",
    "import os\n",
    "max_frames=50\n",
    "\n",
    "tracker_type = 'bytetrack'\n",
    "track_high_thresh = 0.3\n",
    "track_low_thresh = 0.05\n",
    "new_track_thresh = 0.2\n",
    "track_buffer = 40\n",
    "match_thresh = 0.5\n",
    "\n",
    "TrackerName = f\"Train{max_frames}\"\n",
    "trackers_folder = f\"TrackEval/data/trackers/mot_challenge/FISH{max_frames}-train\"\n",
    "tracker_folder = os.path.join(trackers_folder, TrackerName)\n",
    "result_folder = os.path.join(tracker_folder, \"data\")\n",
    "tracker_config_file = os.path.join(tracker_folder, \"custom-tracker.yaml\")\n",
    "raw_result_file = os.path.join(result_folder, \"raw.txt\")\n",
    "result_file = os.path.join(result_folder, f\"FISH{max_frames}.txt\")\n",
    "match_file = os.path.join(tracker_folder, f\"FISH{max_frames}-pedestrian-bestmatch.txt\")\n",
    "\n",
    "if not os.path.exists(result_folder):\n",
    "  os.makedirs(result_folder)\n",
    "\n",
    "with open(tracker_config_file, 'w') as f:\n",
    "  config = '# Ultralytics YOLO 🚀, AGPL-3.0 license\\n' + \\\n",
    "        '# Default YOLO tracker settings for ByteTrack tracker https://github.com/ifzhang/ByteTrack\\n' + \\\n",
    "        '\\n' + \\\n",
    "        f'tracker_type: {tracker_type}  # tracker type, [\\'botsort\\', \\'bytetrack\\']\\n' + \\\n",
    "        f'track_high_thresh: {track_high_thresh}  # threshold for the first association\\n' + \\\n",
    "        f'track_low_thresh: {track_low_thresh}  # threshold for the second association\\n' + \\\n",
    "        f'new_track_thresh: {new_track_thresh}  # threshold for init new track if the detection does not match any tracks\\n' + \\\n",
    "        f'track_buffer: {track_buffer}  # buffer to calculate the time when to remove tracks\\n' + \\\n",
    "        f'match_thresh: {match_thresh}  # threshold for matching tracks\\n' + \\\n",
    "        '# min_box_area: 10  # threshold for min box areas(for tracker evaluation, not used for now)\\n' + \\\n",
    "        '# mot20: False  # for tracker evaluation(not used for now)'\n",
    "  f.write(config)"
   ]
  },
  {
   "cell_type": "code",
   "execution_count": 3,
   "id": "3955ffc9-5200-483d-a83b-ed440766589f",
   "metadata": {},
   "outputs": [],
   "source": [
    "# Files for tracker\n",
    "import os\n",
    "\n",
    "FISH=f\"TrackEval/data/gt/mot_challenge/FISH{max_frames}-train/FISH{max_frames}\"\n",
    "# FISH=f\"TrackEval/data/gt/mot_challenge/FISH-train{max_frames}/FISH\"\n",
    "\n",
    "#gt folder\n",
    "fn=os.path.join(FISH,\"gt\")\n",
    "if not os.path.exists(fn):\n",
    "    os.makedirs(fn)\n",
    "\n",
    "#PerfectTracker folder\n",
    "fn=f\"TrackEval/data/trackers/mot_challenge/FISH{max_frames}-train/PerfectTracker/data\"\n",
    "if not os.path.exists(fn):\n",
    "    os.makedirs(fn)\n",
    "\n",
    "                # gt\n",
    "# TrackEval/data/gt/mot_challenge/FISH-train/FISH/gt/gt.txt\n",
    "fn=os.path.join(FISH,\"gt/gt.txt\")\n",
    "with open(\"TrackEval/data/gt/mot_challenge/FISH-train/FISH/gt/gt.txt\",\"r\") as f:\n",
    "    with open(fn,\"w\") as g:\n",
    "        frames=0\n",
    "        for line in f:\n",
    "            g.write(line)\n",
    "            frames+=1\n",
    "            if frames> max_frames*10-1:\n",
    "                break\n",
    "\n",
    "#Perfect tracker\n",
    "\n",
    "!cp {FISH}/gt/gt.txt \"TrackEval/data/trackers/mot_challenge/FISH{max_frames}-train/PerfectTracker/data/FISH10.txt\"\n",
    "\n",
    "#TrackEval/data/gt/mot_challenge/FISH-train/FISH/seqinfo.ini\n",
    "fn=os.path.join(FISH, \"seqinfo.ini\")\n",
    "with open(fn,\"w\") as f:\n",
    "   f.write(\"[Sequence]\\n\")\n",
    "   f.write(f\"name=FISH{max_frames}\\n\")\n",
    "   f.write(f\"seqLength={max_frames}\")\n",
    "\n",
    "# seqmaps\n",
    "seqmaps= \"TrackEval/data/gt/mot_challenge/seqmaps\"\n",
    "fns=[os.path.join(seqmaps, f'FISH{max_frames}-all.txt'),\\\n",
    "     os.path.join(seqmaps, f'FISH{max_frames}-test.txt'),\\\n",
    "     os.path.join(seqmaps, f'FISH{max_frames}-train.txt')]\n",
    "for fn in fns:\n",
    "    with open(fn,\"w\") as f:\n",
    "        f.write(\"NAME\\n\")\n",
    "        f.write(f\"FISH{max_frames}\")\n"
   ]
  },
  {
   "cell_type": "code",
   "execution_count": null,
   "id": "564eafca-0b81-4aff-bda0-2d720723b8e8",
   "metadata": {},
   "outputs": [
    {
     "name": "stdout",
     "output_type": "stream",
     "text": [
      "before\n",
      "frame: 1\n",
      "before track\n",
      "\n"
     ]
    }
   ],
   "source": [
    "import cv2\n",
    "#tracking the model and write the result to txt\n",
    "video = \"/work/marioeduardo-a/ftc/FTC-2024-data/Train/train.mp4\"\n",
    "cap = cv2.VideoCapture(video)\n",
    "with open(raw_result_file, 'w') as r:\n",
    "    frames = 1\n",
    "    print(\"before\")\n",
    "    while cap.isOpened() and frames<=max_frames:\n",
    "        success, frame = cap.read()\n",
    "        print(\"frame:\",frames)\n",
    "        if success:\n",
    "            \n",
    "            print(\"before track\")\n",
    "            results = model.track(frame, persist=True, tracker=tracker_config_file)\n",
    "            print(\"after track\")\n",
    "            \n",
    "\n",
    "            # Get the boxes and track IDs\n",
    "            boxes = results[0].boxes.xywh.cpu()\n",
    "            track_ids = results[0].boxes.id.int().cpu().tolist()\n",
    "\n",
    "            # Plot the tracks\n",
    "            for box, track_id in zip(boxes, track_ids):\n",
    "                x, y, w, h = box\n",
    "                x -= w/2\n",
    "                y -= h/2\n",
    "                r.write(f'{frames} {track_id} {x:5.2f} {y:5.2f} {w:5.2f} {h:5.2f} -1 -1 -1 -1\\n')\n",
    "        else:\n",
    "            # Break the loop if the end of the video is reached\n",
    "            break\n",
    "        frames += 1\n",
    "# Release the video capture object and close the display window\n",
    "# cap.close()\n",
    "cap.release()\n",
    "cv2.destroyAllWindows()"
   ]
  },
  {
   "cell_type": "code",
   "execution_count": null,
   "id": "098a3a1f-b818-4176-8d1c-7af9d732b0a4",
   "metadata": {},
   "outputs": [],
   "source": []
  },
  {
   "cell_type": "code",
   "execution_count": null,
   "id": "9f87c358-0186-4b9a-b94a-1a79802da93d",
   "metadata": {},
   "outputs": [],
   "source": []
  },
  {
   "cell_type": "code",
   "execution_count": 3,
   "id": "4dd85c7b-135f-4bed-a2bc-f1b100f750d8",
   "metadata": {},
   "outputs": [
    {
     "data": {
      "text/plain": [
       "< cv2.VideoCapture 0x7f9adc673870>"
      ]
     },
     "execution_count": 3,
     "metadata": {},
     "output_type": "execute_result"
    }
   ],
   "source": [
    "cap"
   ]
  },
  {
   "cell_type": "code",
   "execution_count": 4,
   "id": "d1549560-8a4b-4b2c-be38-1247c61dbbf9",
   "metadata": {},
   "outputs": [
    {
     "data": {
      "text/plain": [
       "(True,\n",
       " array([[[ 26,   0,   0],\n",
       "         [ 23,   0,   0],\n",
       "         [  7,   0,  24],\n",
       "         ...,\n",
       "         [  0,   9,   6],\n",
       "         [  0,   7,   0],\n",
       "         [  0,   0,   0]],\n",
       " \n",
       "        [[ 23,   0,   0],\n",
       "         [ 26,   0,   0],\n",
       "         [  6,   0,  23],\n",
       "         ...,\n",
       "         [186, 206, 203],\n",
       "         [182, 204, 180],\n",
       "         [158, 180, 156]],\n",
       " \n",
       "        [[ 11,   6,  18],\n",
       "         [ 12,   7,  19],\n",
       "         [126,   0,  90],\n",
       "         ...,\n",
       "         [189, 208, 207],\n",
       "         [184, 206, 182],\n",
       "         [160, 182, 158]],\n",
       " \n",
       "        ...,\n",
       " \n",
       "        [[  0,   2,   3],\n",
       "         [116, 123, 124],\n",
       "         [111, 118, 119],\n",
       "         ...,\n",
       "         [178, 191, 199],\n",
       "         [178, 191, 199],\n",
       "         [178, 191, 199]],\n",
       " \n",
       "        [[  0,   1,   2],\n",
       "         [  0,   1,   2],\n",
       "         [  0,   1,   2],\n",
       "         ...,\n",
       "         [  0,   0,   4],\n",
       "         [  0,   0,   4],\n",
       "         [  0,   0,   4]],\n",
       " \n",
       "        [[  0,   1,   2],\n",
       "         [  0,   1,   2],\n",
       "         [  0,   1,   2],\n",
       "         ...,\n",
       "         [  0,   0,   4],\n",
       "         [  0,   0,   4],\n",
       "         [  0,   0,   4]]], dtype=uint8))"
      ]
     },
     "execution_count": 4,
     "metadata": {},
     "output_type": "execute_result"
    }
   ],
   "source": [
    "cap.read()"
   ]
  },
  {
   "cell_type": "code",
   "execution_count": null,
   "id": "db8713f0-063b-4ace-b491-a56d9bb836e4",
   "metadata": {},
   "outputs": [],
   "source": []
  }
 ],
 "metadata": {
  "kernelspec": {
   "display_name": "Python 3 (ipykernel)",
   "language": "python",
   "name": "python3"
  },
  "language_info": {
   "codemirror_mode": {
    "name": "ipython",
    "version": 3
   },
   "file_extension": ".py",
   "mimetype": "text/x-python",
   "name": "python",
   "nbconvert_exporter": "python",
   "pygments_lexer": "ipython3",
   "version": "3.8.10"
  }
 },
 "nbformat": 4,
 "nbformat_minor": 5
}
