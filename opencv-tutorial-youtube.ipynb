{
 "cells": [
  {
   "cell_type": "code",
   "execution_count": 1,
   "id": "a690e50b-1d2b-4b6a-b5b3-b05f9f6ec3ff",
   "metadata": {},
   "outputs": [],
   "source": [
    "import cv2"
   ]
  },
  {
   "cell_type": "code",
   "execution_count": 2,
   "id": "d0086e87-775b-4055-9a63-29275e14c4b3",
   "metadata": {},
   "outputs": [],
   "source": [
    "TrDict = {'dasiam':cv2.TrackerDaSiamRPN_create,\n",
    "         'mil':cv2.TrackerMIL_create}"
   ]
  },
  {
   "cell_type": "code",
   "execution_count": 3,
   "id": "91e4a1a9-e0ac-440a-8c05-9667cbaab01b",
   "metadata": {},
   "outputs": [],
   "source": [
    "tracker=TrDict['mil']()"
   ]
  },
  {
   "cell_type": "code",
   "execution_count": 4,
   "id": "dc7919da-c52a-4a67-8f7b-0163aa2d8520",
   "metadata": {},
   "outputs": [],
   "source": [
    "v = cv2.VideoCapture(r'development.mp4')"
   ]
  },
  {
   "cell_type": "code",
   "execution_count": 5,
   "id": "ca3740a3-6bcf-4e99-b6c1-7e6d326cab27",
   "metadata": {},
   "outputs": [],
   "source": [
    "ret, frame = v.read()\n",
    "frameS = cv2.resize(frame, (960, 540))v = cv2.VideoCapture(r'development.mp4')\n",
    "# cv2.namedWindow(\"output\", cv2.WINDOW_NORMAL)    # Create window with freedom of dimensions\n",
    "cv2.imshow('Frame',frameS)\n",
    "bb = cv2.selectROI('Frame',frameS)\n",
    "tracker.init(frameS,bb)"
   ]
  },
  {
   "cell_type": "code",
   "execution_count": 6,
   "id": "9de5c442-9792-4580-b33d-acd55c91ec86",
   "metadata": {},
   "outputs": [],
   "source": [
    "while True:\n",
    "    ret, frame = v.read()\n",
    "    frameS = cv2.resize(frame, (960, 540))\n",
    "    if not ret:\n",
    "        break\n",
    "    (success,box) = tracker.update(frameS)\n",
    "    if success:\n",
    "        (x,y,w,h) = [int(a) for a in box]\n",
    "        cv2.rectangle(frameS,(x,y),(x+w,y+h),(255,0,0),2)\n",
    "    cv2.imshow('Frame',frameS)\n",
    "    key = cv2.waitKey(5) & 0xFF\n",
    "    if key == ord('q'):\n",
    "        break\n",
    "v.release()\n",
    "cv2.destroyAllWindows()\n",
    "    \n",
    "        "
   ]
  },
  {
   "cell_type": "code",
   "execution_count": null,
   "id": "26807824-257e-49e2-a050-f294b59c14de",
   "metadata": {},
   "outputs": [],
   "source": []
  }
 ],
 "metadata": {
  "kernelspec": {
   "display_name": "Python 3 (ipykernel)",
   "language": "python",
   "name": "python3"
  },
  "language_info": {
   "codemirror_mode": {
    "name": "ipython",
    "version": 3
   },
   "file_extension": ".py",
   "mimetype": "text/x-python",
   "name": "python",
   "nbconvert_exporter": "python",
   "pygments_lexer": "ipython3",
   "version": "3.8.18"
  }
 },
 "nbformat": 4,
 "nbformat_minor": 5
}
