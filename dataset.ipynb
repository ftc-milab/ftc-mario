{
 "cells": [
  {
   "attachments": {},
   "cell_type": "markdown",
   "metadata": {},
   "source": [
    "# Dataset Creation from Train video\n",
    "1. First check if the files are in Google Drive; if so, then just copy from there (maybe)\n",
    "1. Generate JPG images from MP4 file and move to \"original/images\"\n",
    "2. Generate TXT labels from train_mot_.txt and move to \"valid/labels\"\n",
    "3. Separate into Train, Validation and Test datasets\n",
    "\n",
    "TODO\n",
    "- Consider resizing to 640x640 images (also see this post about possible problems with this)\n",
    "    - https://github.com/ultralytics/ultralytics/issues/4510\n",
    "- Remove valid images after copying to train,valid,test folders\n",
    "- Add number of frames to dataset root folder to experiment with lower number of frames\n",
    "- Improve the format of the image names (maybe)"
   ]
  },
  {
   "attachments": {},
   "cell_type": "markdown",
   "metadata": {},
   "source": [
    "# Pip packages"
   ]
  },
  {
   "cell_type": "code",
   "execution_count": 10,
   "metadata": {},
   "outputs": [
    {
     "name": "stdout",
     "output_type": "stream",
     "text": [
      "Requirement already satisfied: tqdm in /home/mario/miniconda3/envs/ftc38/lib/python3.8/site-packages (4.66.1)\n",
      "Requirement already satisfied: ultralytics in /home/mario/miniconda3/envs/ftc38/lib/python3.8/site-packages (8.0.209)\n",
      "Requirement already satisfied: matplotlib>=3.3.0 in /home/mario/miniconda3/envs/ftc38/lib/python3.8/site-packages (from ultralytics) (3.7.3)\n",
      "Requirement already satisfied: numpy>=1.22.2 in /home/mario/miniconda3/envs/ftc38/lib/python3.8/site-packages (from ultralytics) (1.24.4)\n",
      "Requirement already satisfied: opencv-python>=4.6.0 in /home/mario/miniconda3/envs/ftc38/lib/python3.8/site-packages (from ultralytics) (4.8.1.78)\n",
      "Requirement already satisfied: pillow>=7.1.2 in /home/mario/miniconda3/envs/ftc38/lib/python3.8/site-packages (from ultralytics) (10.0.1)\n",
      "Requirement already satisfied: pyyaml>=5.3.1 in /home/mario/miniconda3/envs/ftc38/lib/python3.8/site-packages (from ultralytics) (6.0.1)\n",
      "Requirement already satisfied: requests>=2.23.0 in /home/mario/miniconda3/envs/ftc38/lib/python3.8/site-packages (from ultralytics) (2.31.0)\n",
      "Requirement already satisfied: scipy>=1.4.1 in /home/mario/miniconda3/envs/ftc38/lib/python3.8/site-packages (from ultralytics) (1.10.1)\n",
      "Requirement already satisfied: torch>=1.8.0 in /home/mario/miniconda3/envs/ftc38/lib/python3.8/site-packages (from ultralytics) (2.1.0)\n",
      "Requirement already satisfied: torchvision>=0.9.0 in /home/mario/miniconda3/envs/ftc38/lib/python3.8/site-packages (from ultralytics) (0.16.0)\n",
      "Requirement already satisfied: tqdm>=4.64.0 in /home/mario/miniconda3/envs/ftc38/lib/python3.8/site-packages (from ultralytics) (4.66.1)\n",
      "Requirement already satisfied: pandas>=1.1.4 in /home/mario/miniconda3/envs/ftc38/lib/python3.8/site-packages (from ultralytics) (2.0.3)\n",
      "Requirement already satisfied: seaborn>=0.11.0 in /home/mario/miniconda3/envs/ftc38/lib/python3.8/site-packages (from ultralytics) (0.13.0)\n",
      "Requirement already satisfied: psutil in /home/mario/miniconda3/envs/ftc38/lib/python3.8/site-packages (from ultralytics) (5.9.6)\n",
      "Requirement already satisfied: py-cpuinfo in /home/mario/miniconda3/envs/ftc38/lib/python3.8/site-packages (from ultralytics) (9.0.0)\n",
      "Requirement already satisfied: thop>=0.1.1 in /home/mario/miniconda3/envs/ftc38/lib/python3.8/site-packages (from ultralytics) (0.1.1.post2209072238)\n",
      "Requirement already satisfied: contourpy>=1.0.1 in /home/mario/miniconda3/envs/ftc38/lib/python3.8/site-packages (from matplotlib>=3.3.0->ultralytics) (1.1.1)\n",
      "Requirement already satisfied: cycler>=0.10 in /home/mario/miniconda3/envs/ftc38/lib/python3.8/site-packages (from matplotlib>=3.3.0->ultralytics) (0.12.1)\n",
      "Requirement already satisfied: fonttools>=4.22.0 in /home/mario/miniconda3/envs/ftc38/lib/python3.8/site-packages (from matplotlib>=3.3.0->ultralytics) (4.43.1)\n",
      "Requirement already satisfied: kiwisolver>=1.0.1 in /home/mario/miniconda3/envs/ftc38/lib/python3.8/site-packages (from matplotlib>=3.3.0->ultralytics) (1.4.5)\n",
      "Requirement already satisfied: packaging>=20.0 in /home/mario/miniconda3/envs/ftc38/lib/python3.8/site-packages (from matplotlib>=3.3.0->ultralytics) (23.2)\n",
      "Requirement already satisfied: pyparsing>=2.3.1 in /home/mario/miniconda3/envs/ftc38/lib/python3.8/site-packages (from matplotlib>=3.3.0->ultralytics) (3.1.1)\n",
      "Requirement already satisfied: python-dateutil>=2.7 in /home/mario/miniconda3/envs/ftc38/lib/python3.8/site-packages (from matplotlib>=3.3.0->ultralytics) (2.8.2)\n",
      "Requirement already satisfied: importlib-resources>=3.2.0 in /home/mario/miniconda3/envs/ftc38/lib/python3.8/site-packages (from matplotlib>=3.3.0->ultralytics) (6.1.0)\n",
      "Requirement already satisfied: pytz>=2020.1 in /home/mario/miniconda3/envs/ftc38/lib/python3.8/site-packages (from pandas>=1.1.4->ultralytics) (2023.3.post1)\n",
      "Requirement already satisfied: tzdata>=2022.1 in /home/mario/miniconda3/envs/ftc38/lib/python3.8/site-packages (from pandas>=1.1.4->ultralytics) (2023.3)\n",
      "Requirement already satisfied: charset-normalizer<4,>=2 in /home/mario/miniconda3/envs/ftc38/lib/python3.8/site-packages (from requests>=2.23.0->ultralytics) (3.3.2)\n",
      "Requirement already satisfied: idna<4,>=2.5 in /home/mario/miniconda3/envs/ftc38/lib/python3.8/site-packages (from requests>=2.23.0->ultralytics) (3.4)\n",
      "Requirement already satisfied: urllib3<3,>=1.21.1 in /home/mario/miniconda3/envs/ftc38/lib/python3.8/site-packages (from requests>=2.23.0->ultralytics) (2.0.7)\n",
      "Requirement already satisfied: certifi>=2017.4.17 in /home/mario/miniconda3/envs/ftc38/lib/python3.8/site-packages (from requests>=2.23.0->ultralytics) (2023.7.22)\n",
      "Requirement already satisfied: filelock in /home/mario/miniconda3/envs/ftc38/lib/python3.8/site-packages (from torch>=1.8.0->ultralytics) (3.13.1)\n",
      "Requirement already satisfied: typing-extensions in /home/mario/miniconda3/envs/ftc38/lib/python3.8/site-packages (from torch>=1.8.0->ultralytics) (4.8.0)\n",
      "Requirement already satisfied: sympy in /home/mario/miniconda3/envs/ftc38/lib/python3.8/site-packages (from torch>=1.8.0->ultralytics) (1.12)\n",
      "Requirement already satisfied: networkx in /home/mario/miniconda3/envs/ftc38/lib/python3.8/site-packages (from torch>=1.8.0->ultralytics) (3.1)\n",
      "Requirement already satisfied: jinja2 in /home/mario/miniconda3/envs/ftc38/lib/python3.8/site-packages (from torch>=1.8.0->ultralytics) (3.1.2)\n",
      "Requirement already satisfied: fsspec in /home/mario/miniconda3/envs/ftc38/lib/python3.8/site-packages (from torch>=1.8.0->ultralytics) (2023.10.0)\n",
      "Requirement already satisfied: nvidia-cuda-nvrtc-cu12==12.1.105 in /home/mario/miniconda3/envs/ftc38/lib/python3.8/site-packages (from torch>=1.8.0->ultralytics) (12.1.105)\n",
      "Requirement already satisfied: nvidia-cuda-runtime-cu12==12.1.105 in /home/mario/miniconda3/envs/ftc38/lib/python3.8/site-packages (from torch>=1.8.0->ultralytics) (12.1.105)\n",
      "Requirement already satisfied: nvidia-cuda-cupti-cu12==12.1.105 in /home/mario/miniconda3/envs/ftc38/lib/python3.8/site-packages (from torch>=1.8.0->ultralytics) (12.1.105)\n",
      "Requirement already satisfied: nvidia-cudnn-cu12==8.9.2.26 in /home/mario/miniconda3/envs/ftc38/lib/python3.8/site-packages (from torch>=1.8.0->ultralytics) (8.9.2.26)\n",
      "Requirement already satisfied: nvidia-cublas-cu12==12.1.3.1 in /home/mario/miniconda3/envs/ftc38/lib/python3.8/site-packages (from torch>=1.8.0->ultralytics) (12.1.3.1)\n",
      "Requirement already satisfied: nvidia-cufft-cu12==11.0.2.54 in /home/mario/miniconda3/envs/ftc38/lib/python3.8/site-packages (from torch>=1.8.0->ultralytics) (11.0.2.54)\n",
      "Requirement already satisfied: nvidia-curand-cu12==10.3.2.106 in /home/mario/miniconda3/envs/ftc38/lib/python3.8/site-packages (from torch>=1.8.0->ultralytics) (10.3.2.106)\n",
      "Requirement already satisfied: nvidia-cusolver-cu12==11.4.5.107 in /home/mario/miniconda3/envs/ftc38/lib/python3.8/site-packages (from torch>=1.8.0->ultralytics) (11.4.5.107)\n",
      "Requirement already satisfied: nvidia-cusparse-cu12==12.1.0.106 in /home/mario/miniconda3/envs/ftc38/lib/python3.8/site-packages (from torch>=1.8.0->ultralytics) (12.1.0.106)\n",
      "Requirement already satisfied: nvidia-nccl-cu12==2.18.1 in /home/mario/miniconda3/envs/ftc38/lib/python3.8/site-packages (from torch>=1.8.0->ultralytics) (2.18.1)\n",
      "Requirement already satisfied: nvidia-nvtx-cu12==12.1.105 in /home/mario/miniconda3/envs/ftc38/lib/python3.8/site-packages (from torch>=1.8.0->ultralytics) (12.1.105)\n",
      "Requirement already satisfied: triton==2.1.0 in /home/mario/miniconda3/envs/ftc38/lib/python3.8/site-packages (from torch>=1.8.0->ultralytics) (2.1.0)\n",
      "Requirement already satisfied: nvidia-nvjitlink-cu12 in /home/mario/miniconda3/envs/ftc38/lib/python3.8/site-packages (from nvidia-cusolver-cu12==11.4.5.107->torch>=1.8.0->ultralytics) (12.3.52)\n",
      "Requirement already satisfied: zipp>=3.1.0 in /home/mario/miniconda3/envs/ftc38/lib/python3.8/site-packages (from importlib-resources>=3.2.0->matplotlib>=3.3.0->ultralytics) (3.17.0)\n",
      "Requirement already satisfied: six>=1.5 in /home/mario/miniconda3/envs/ftc38/lib/python3.8/site-packages (from python-dateutil>=2.7->matplotlib>=3.3.0->ultralytics) (1.16.0)\n",
      "Requirement already satisfied: MarkupSafe>=2.0 in /home/mario/miniconda3/envs/ftc38/lib/python3.8/site-packages (from jinja2->torch>=1.8.0->ultralytics) (2.1.3)\n",
      "Requirement already satisfied: mpmath>=0.19 in /home/mario/miniconda3/envs/ftc38/lib/python3.8/site-packages (from sympy->torch>=1.8.0->ultralytics) (1.3.0)\n"
     ]
    }
   ],
   "source": [
    "!pip install tqdm\n",
    "!pip install ultralytics"
   ]
  },
  {
   "attachments": {},
   "cell_type": "markdown",
   "metadata": {},
   "source": [
    "# Filenames definitions"
   ]
  },
  {
   "cell_type": "code",
   "execution_count": 11,
   "metadata": {},
   "outputs": [],
   "source": [
    "import os \n",
    "\n",
    "data = '/home/mario/ftc'\n",
    "images=os.path.join(data,\"images\")\n",
    "labels=os.path.join(data,\"labels\")\n",
    "\n",
    "images_original = os.path.join(images,'original')\n",
    "labels_original = os.path.join(labels,'original')\n",
    "\n",
    "images_train = os.path.join(images,'train')\n",
    "labels_train = os.path.join(labels,'train')\n",
    "\n",
    "images_valid = os.path.join(images,'valid')\n",
    "labels_valid = os.path.join(labels,'valid')\n",
    "\n",
    "images_test = os.path.join(images,'test')\n",
    "labels_test = os.path.join(labels,'test')\n",
    "\n",
    "\n",
    "video_train=os.path.join(data,'FTC-2024-data/Train/train.mp4')\n",
    "labels_train_file=os.path.join(data,'FTC-2024-data/Train/train_gt_mot.txt')\n",
    "# video_development=os.path.join(data,'FTC-2024-data/Development/development.mp4')\n",
    "# video_test=os.path.join(data,'FTC-2024-data/Test/test.mp4')\n"
   ]
  },
  {
   "attachments": {},
   "cell_type": "markdown",
   "metadata": {},
   "source": [
    "## Generate original images from mp4 file"
   ]
  },
  {
   "cell_type": "code",
   "execution_count": 12,
   "metadata": {},
   "outputs": [
    {
     "name": "stderr",
     "output_type": "stream",
     "text": [
      "100%|██████████| 10000/10000 [15:06<00:00, 11.04it/s]"
     ]
    },
    {
     "name": "stdout",
     "output_type": "stream",
     "text": [
      "Images outputed: 10000\n"
     ]
    },
    {
     "name": "stderr",
     "output_type": "stream",
     "text": [
      "\n"
     ]
    }
   ],
   "source": [
    "import cv2\n",
    "import os\n",
    "from tqdm import tqdm\n",
    "\n",
    "# Copy images from drive ioriginalf they exist there\n",
    "if not os.path.exists(images_original):\n",
    "    os.makedirs(images_original)\n",
    "\n",
    "    capture = cv2.VideoCapture(video_train)\n",
    "    total_frames = int(capture.get(cv2.CAP_PROP_FRAME_COUNT))\n",
    "    # total_frames=100\n",
    "\n",
    "    for f in tqdm(range(1,total_frames+1)):\n",
    "        _,frame=capture.read()\n",
    "        cv2.imwrite(os.path.join(images_original,str(f).zfill(6)+\".jpg\"),frame, [cv2.IMWRITE_JPEG_QUALITY, 100])\n",
    "        # cv2.imwrite(newPath, frame, [cv2.IMWRITE_JPEG_QUALITY, 100])\n",
    "        # cv2.imencode('.jpg', frame)[1].tofile(newPath)\n",
    "\n",
    "    capture.release()\n",
    "    #print(\"Last frame number: \" + str(frames - 1))\n",
    "    print(\"Images outputed: \" + str(len(os.listdir(images_original))))\n"
   ]
  },
  {
   "attachments": {},
   "cell_type": "markdown",
   "metadata": {},
   "source": [
    "# Labels"
   ]
  },
  {
   "cell_type": "code",
   "execution_count": 13,
   "metadata": {},
   "outputs": [
    {
     "name": "stdout",
     "output_type": "stream",
     "text": [
      "Video width: 2456.0\n",
      "Video height: 2058.0\n",
      "Start translate labels into YOLO format.\n",
      "Label source: /home/mario/ftc/FTC-2024-data/Train/train_gt_mot.txt\n",
      "Label destnation: /home/mario/ftc/labels/original\n",
      "Translation finished!\n",
      "Last frame number: 10000\n",
      "Labels outputed: 10000\n"
     ]
    }
   ],
   "source": [
    "#extract labels into each frames to label_foler\n",
    "\n",
    "if not os.path.exists(labels_original):\n",
    "    video_width = 0\n",
    "    video_height = 0\n",
    "    cap = cv2.VideoCapture(video_train)\n",
    "    if cap.isOpened():\n",
    "        video_width  = cap.get(cv2.CAP_PROP_FRAME_WIDTH)   # float `width`\n",
    "        video_height = cap.get(cv2.CAP_PROP_FRAME_HEIGHT)  # float `height`\n",
    "    cap.release()\n",
    "\n",
    "    print(\"Video width: \" + str(video_width))\n",
    "    print(\"Video height: \" + str(video_height))\n",
    "\n",
    "    \n",
    "    os.makedirs(labels_original)\n",
    "\n",
    "\n",
    "    print(\"Start translate labels into YOLO format.\")\n",
    "    print(\"Label source: \" + labels_train_file)\n",
    "    print(\"Label destnation: \" + labels_original)\n",
    "\n",
    "    current_frame = -1\n",
    "    with open(labels_train_file) as f:\n",
    "        current_file = 0\n",
    "        for line in f:\n",
    "            line = line.strip()\n",
    "            frame, bid, top, left, width, height, _, _, _, _ = line.split(\" \")\n",
    "            frame, bid, left, top, width, height = int(frame), int(bid), float(left), float(top), int(width), int(height)\n",
    "            center_x = left + width / 2\n",
    "            center_y = top + height/ 2\n",
    "            rel_center_x = center_x / video_width\n",
    "            rel_center_y = center_y / video_height\n",
    "            rel_width = width / video_width\n",
    "            rel_height = height / video_height\n",
    "            if frame != current_frame:\n",
    "                if current_file != 0:\n",
    "                    current_file.close()\n",
    "                if frame == total_frames + 1:\n",
    "                    break\n",
    "                current_file = open(os.path.join(labels_original, str(frame).zfill(6) + \".txt\"), 'w')\n",
    "            #current_file.write(\"class_id center_x center_y bbox_width bbox_height\\n\")\n",
    "            current_frame = frame\n",
    "            current_file.write(\"0 \" + str(rel_center_x) + \" \" + str(rel_center_y) + \" \" + str(rel_width) + \" \" + str(rel_height) + \"\\n\")\n",
    "\n",
    "        current_file.close()\n",
    "    print(\"Translation finished!\")\n",
    "    print(\"Last frame number: \" + str(current_frame))\n",
    "    print(\"Labels outputed: \" + str(len(os.listdir(labels_original))))\n",
    "\n"
   ]
  },
  {
   "attachments": {},
   "cell_type": "markdown",
   "metadata": {},
   "source": [
    "# Train Valid Test "
   ]
  },
  {
   "cell_type": "code",
   "execution_count": 14,
   "metadata": {},
   "outputs": [
    {
     "name": "stdout",
     "output_type": "stream",
     "text": [
      "train_offset: 7500\n",
      "valid_offset: 9000\n",
      "test_offset: 10000\n",
      "\n",
      "len(train): 7500\n",
      "len(valid_ids): 1500\n",
      "len(train): 1000\n",
      "\n",
      "Train images:  7500\n",
      "Train labels:  7500\n",
      "Valid images:  1500\n",
      "Valid labels:  1500\n",
      "Test images:  1000\n",
      "Test labels:  1000\n"
     ]
    }
   ],
   "source": [
    "import os\n",
    "import shutil\n",
    "import random\n",
    "\n",
    "\n",
    "if not os.path.exists(images_train):\n",
    "    ids =[i for i in range(1,total_frames+1)]\n",
    "    random.shuffle(ids)\n",
    "\n",
    "    train_offset = int(0.75*total_frames)\n",
    "    valid_offset = int(train_offset+0.15*total_frames)\n",
    "    test_offset  = int(valid_offset+0.10*total_frames)\n",
    "    print(\"train_offset:\",train_offset)\n",
    "    print(\"valid_offset:\",valid_offset)\n",
    "    print(\"test_offset:\",test_offset)\n",
    "    print()\n",
    "    train_ids = ids[:train_offset]\n",
    "    valid_ids = ids[train_offset:valid_offset]\n",
    "    test_ids  = ids[valid_offset:]\n",
    "\n",
    "\n",
    "    print('len(train):',len(train_ids))\n",
    "    print('len(valid_ids):',len(valid_ids))\n",
    "    print('len(train):',len(test_ids))\n",
    "    print()\n",
    "    # Create folders\n",
    "    types=[images,labels]\n",
    "    folders=[\"train\",\"valid\",\"test\"]\n",
    "    \n",
    "\n",
    "    for t in types:\n",
    "        for ff in folders:\n",
    "            folder_fn = os.path.join(t,ff)\n",
    "            if not os.path.exists(folder_fn):\n",
    "                os.makedirs(folder_fn)\n",
    "\n",
    "    #move training set to image_train_folder and label_train_folder\n",
    "    for i in range(total_frames):\n",
    "        if i<train_offset:\n",
    "            destination_folder= \"train\"\n",
    "        elif i<valid_offset:\n",
    "            destination_folder= \"valid\"\n",
    "        else:\n",
    "            destination_folder= \"test\"\n",
    "        destination_images=os.path.join(images,destination_folder)\n",
    "        destination_labels=os.path.join(labels, destination_folder)\n",
    "\n",
    "        source      = os.path.join(images_original,str(ids[i]).zfill(6)+\".jpg\")\n",
    "        destination = os.path.join(destination_images,str(ids[i]).zfill(6)+\".jpg\")\n",
    "        shutil.copy(source, destination)\n",
    "\n",
    "        source      = os.path.join(labels_original,str(ids[i]).zfill(6)+\".txt\")\n",
    "        destination = os.path.join(destination_labels,str(ids[i]).zfill(6)+\".txt\")\n",
    "\n",
    "        shutil.copy(source, destination)\n",
    "\n",
    "\n",
    "    # Validate sizes of folders\n",
    "    #image count in colab vm\n",
    "    print(\"Train images: \",len(os.listdir(images_train)))\n",
    "    print(\"Train labels: \",len(os.listdir(labels_train)))\n",
    "    print(\"Valid images: \",len(os.listdir(images_valid)))\n",
    "    print(\"Valid labels: \",len(os.listdir(labels_valid)))\n",
    "    print(\"Test images: \",len(os.listdir(images_test)))\n",
    "    print(\"Test labels: \",len(os.listdir(labels_test)))\n",
    "    "
   ]
  },
  {
   "cell_type": "code",
   "execution_count": null,
   "metadata": {},
   "outputs": [],
   "source": []
  }
 ],
 "metadata": {
  "kernelspec": {
   "display_name": "ftc38",
   "language": "python",
   "name": "python3"
  },
  "language_info": {
   "codemirror_mode": {
    "name": "ipython",
    "version": 3
   },
   "file_extension": ".py",
   "mimetype": "text/x-python",
   "name": "python",
   "nbconvert_exporter": "python",
   "pygments_lexer": "ipython3",
   "version": "3.8.18"
  },
  "orig_nbformat": 4,
  "vscode": {
   "interpreter": {
    "hash": "f4fe87f46699e893a0acb7d4a87394b12f942f41fa1b24f2bcaf86378d3ff87d"
   }
  }
 },
 "nbformat": 4,
 "nbformat_minor": 2
}
